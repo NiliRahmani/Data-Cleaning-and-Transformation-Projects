{
  "nbformat": 4,
  "nbformat_minor": 0,
  "metadata": {
    "colab": {
      "provenance": []
    },
    "kernelspec": {
      "name": "python3",
      "display_name": "Python 3"
    },
    "language_info": {
      "name": "python"
    }
  },
  "cells": [
    {
      "cell_type": "markdown",
      "source": [
        "# **FIFA 23 Players Dataset: Data Cleansing and Transformation**\n",
        "\n",
        "<p align=\"center\">\n",
        "  <img src=\"https://i.ytimg.com/vi/Sa0E9Ze2Q7c/maxresdefault.jpg\" alt=\"FIFA 23 Players\" width=\"650\" height=\"400\">\n",
        "</p>\n",
        "\n",
        "# FIFA 23 Players Dataset: Data Cleansing and Transformation\n",
        "\n",
        "This notebook focuses on cleaning and transforming the FIFA 23 Players dataset obtained from Kaggle. It includes steps for data cleaning, handling missing values, and basic transformations.\n",
        "\n",
        "---\n",
        "\n",
        "## Setup\n",
        "\n",
        "First, let's set up the environment by installing necessary libraries, uploading Kaggle API keys, and downloading the dataset.\n",
        "\n",
        "```python\n",
        "# Install necessary libraries\n",
        "!pip install kaggle\n",
        "\n",
        "# Import required modules\n",
        "from google.colab import files\n",
        "import os\n",
        "\n",
        "# Upload Kaggle API JSON file\n",
        "uploaded = files.upload()\n",
        "\n",
        "# Move and configure Kaggle API JSON file\n",
        "!mkdir ~/.kaggle\n",
        "!cp kaggle.json ~/.kaggle/\n",
        "!chmod 600 ~/.kaggle/kaggle.json\n",
        "\n",
        "# Download and extract dataset\n",
        "!kaggle datasets download -d stefanoleone992/fifa-23-complete-player-dataset\n",
        "!unzip -o fifa-23-complete-player-dataset.zip -d fifa_dataset\n"
      ],
      "metadata": {
        "id": "mrIIzkK1XKZl"
      }
    },
    {
      "cell_type": "markdown",
      "source": [
        "#**Data Loading and Exploration**\n",
        "\n",
        "Now, let's load the dataset, explore the contents, and perform initial data exploration."
      ],
      "metadata": {
        "id": "aFwMpEVLVly9"
      }
    },
    {
      "cell_type": "code",
      "source": [
        "import pandas as pd\n",
        "\n",
        "# Load a fraction of the players dataset\n",
        "fraction = 100\n",
        "skip = lambda x: x % fraction != 0\n",
        "players = pd.read_csv('/content/fifa_dataset/male_players.csv', skiprows=skip)\n",
        "teams = pd.read_csv('/content/fifa_dataset/male_teams.csv', skiprows=skip)\n",
        "\n",
        "# Display basic information about the datasets\n",
        "print('Players Shape:', players.shape)\n",
        "print('Teams Shape:', teams.shape)\n"
      ],
      "metadata": {
        "colab": {
          "base_uri": "https://localhost:8080/"
        },
        "id": "4Diz2DReVd1G",
        "outputId": "ae3f14d2-21fe-49dc-d190-68e38c918bdc"
      },
      "execution_count": 52,
      "outputs": [
        {
          "output_type": "stream",
          "name": "stdout",
          "text": [
            "Players Shape: (200071, 110)\n",
            "Teams Shape: (3850, 54)\n"
          ]
        }
      ]
    },
    {
      "cell_type": "markdown",
      "source": [
        "#**Determining Sample Size and Attributes**\n",
        "Let's examine the number of samples and attributes present in the datasets."
      ],
      "metadata": {
        "id": "hbB5-ynYV6SM"
      }
    },
    {
      "cell_type": "code",
      "source": [
        "# Determining the number of samples and attributes in the dataset\n",
        "print('Players:', players.shape)\n",
        "print('Teams:', teams.shape)\n",
        "\n",
        "players.shape[0]\n"
      ],
      "metadata": {
        "colab": {
          "base_uri": "https://localhost:8080/"
        },
        "id": "W7Wh9PVwWG3W",
        "outputId": "db539d13-f1e6-437b-89ac-e6bd5648cb1c"
      },
      "execution_count": 53,
      "outputs": [
        {
          "output_type": "stream",
          "name": "stdout",
          "text": [
            "Players: (200071, 110)\n",
            "Teams: (3850, 54)\n"
          ]
        },
        {
          "output_type": "execute_result",
          "data": {
            "text/plain": [
              "200071"
            ]
          },
          "metadata": {},
          "execution_count": 53
        }
      ]
    },
    {
      "cell_type": "markdown",
      "source": [
        "#**Missing Values Analysis**\n",
        "Now, let's analyze missing values in the datasets to determine their impact on the data quality."
      ],
      "metadata": {
        "id": "LJ1JtF_wWUPk"
      }
    },
    {
      "cell_type": "code",
      "source": [
        "missing_data1 = players.isnull().sum()\n",
        "missing_data2 = teams.isnull().sum()\n",
        "\n",
        "# Display the percentage of missing values in each dataset\n",
        "print('Players Missing Data:', missing_data1)\n",
        "print('Teams Missing Data:', missing_data2)\n"
      ],
      "metadata": {
        "colab": {
          "base_uri": "https://localhost:8080/"
        },
        "id": "UT2B9RQoWYC4",
        "outputId": "a03ec720-9cf1-46a1-e8df-f498ac1a0d7a"
      },
      "execution_count": 54,
      "outputs": [
        {
          "output_type": "stream",
          "name": "stdout",
          "text": [
            "Players Missing Data: player_id           0\n",
            "player_url          0\n",
            "fifa_version        0\n",
            "fifa_update         0\n",
            "fifa_update_date    0\n",
            "                   ..\n",
            "cb                  0\n",
            "rcb                 0\n",
            "rb                  0\n",
            "gk                  0\n",
            "player_face_url     0\n",
            "Length: 110, dtype: int64\n",
            "Teams Missing Data: team_id                           0\n",
            "team_url                          0\n",
            "fifa_version                      0\n",
            "fifa_update                       0\n",
            "fifa_update_date                  0\n",
            "team_name                         0\n",
            "league_id                         0\n",
            "league_name                       0\n",
            "league_level                    244\n",
            "nationality_id                    0\n",
            "nationality_name                  0\n",
            "overall                           0\n",
            "attack                            0\n",
            "midfield                          0\n",
            "defence                           0\n",
            "coach_id                         30\n",
            "home_stadium                      2\n",
            "rival_team                        0\n",
            "international_prestige            0\n",
            "domestic_prestige               243\n",
            "transfer_budget_eur             304\n",
            "club_worth_eur                  941\n",
            "starting_xi_average_age           0\n",
            "whole_team_average_age            0\n",
            "captain                           7\n",
            "short_free_kick                   4\n",
            "long_free_kick                    5\n",
            "left_short_free_kick              7\n",
            "right_short_free_kick             5\n",
            "penalties                         6\n",
            "left_corner                       5\n",
            "right_corner                      4\n",
            "def_style                      1950\n",
            "def_team_width                 1950\n",
            "def_team_depth                 1950\n",
            "def_defence_pressure           1424\n",
            "def_defence_aggression         1424\n",
            "def_defence_width              1424\n",
            "def_defence_defender_line      1424\n",
            "off_style                      2477\n",
            "off_build_up_play              3323\n",
            "off_chance_creation            3323\n",
            "off_team_width                 1950\n",
            "off_players_in_box             1950\n",
            "off_corners                    1950\n",
            "off_free_kicks                 1950\n",
            "build_up_play_speed            1424\n",
            "build_up_play_dribbling        1424\n",
            "build_up_play_passing          1424\n",
            "build_up_play_positioning      1424\n",
            "chance_creation_passing        1424\n",
            "chance_creation_crossing       1424\n",
            "chance_creation_shooting       1424\n",
            "chance_creation_positioning    1424\n",
            "dtype: int64\n"
          ]
        }
      ]
    },
    {
      "cell_type": "markdown",
      "source": [
        "#**Handling Missing Values**\n",
        "Based on the analysis, let's handle missing values by setting a threshold and dropping columns surpassing that threshold."
      ],
      "metadata": {
        "id": "aeFLg147WdrD"
      }
    },
    {
      "cell_type": "code",
      "source": [
        "threshold = 1000  # Setting threshold for missing values\n",
        "columns_to_drop = players.columns[players.isnull().sum() > threshold]\n",
        "\n",
        "players_cleaned = players.drop(columns=columns_to_drop)\n"
      ],
      "metadata": {
        "id": "wOVlK8TZWhRG"
      },
      "execution_count": 55,
      "outputs": []
    },
    {
      "cell_type": "markdown",
      "source": [
        "#**Data Type Inspection and Conversion**\n",
        "Inspecting data types and converting 'fifa_update_date' to a datetime format for further analysis."
      ],
      "metadata": {
        "id": "8nicY21nWmRJ"
      }
    },
    {
      "cell_type": "code",
      "source": [
        "print(players_cleaned[['height_cm','weight_kg']].dtypes)\n",
        "\n",
        "# Convert 'fifa_update_date' column to datetime format\n",
        "players_cleaned['fifa_update_date'] = pd.to_datetime(players_cleaned['fifa_update_date'])\n",
        "print(players_cleaned['fifa_update_date'].dtype)\n"
      ],
      "metadata": {
        "colab": {
          "base_uri": "https://localhost:8080/"
        },
        "id": "QnEaKiw0Wjvq",
        "outputId": "e08c5375-2770-491f-d7e4-8cb9228f5da9"
      },
      "execution_count": 56,
      "outputs": [
        {
          "output_type": "stream",
          "name": "stdout",
          "text": [
            "height_cm    int64\n",
            "weight_kg    int64\n",
            "dtype: object\n",
            "datetime64[ns]\n"
          ]
        }
      ]
    },
    {
      "cell_type": "markdown",
      "source": [
        "#**Splitting Date Components**\n",
        "Split 'fifa_update_date' into year and month columns for temporal analysis"
      ],
      "metadata": {
        "id": "pNc0OLUWWuh0"
      }
    },
    {
      "cell_type": "code",
      "source": [
        "# Split 'fifa_update_date' into year and month columns\n",
        "players_cleaned['fifa_update_year'] = players_cleaned['fifa_update_date'].dt.year\n",
        "players_cleaned['fifa_update_month'] = players_cleaned['fifa_update_date'].dt.month\n",
        "\n",
        "# Display the updated DataFrame with new columns for year and month\n",
        "print(players_cleaned[['fifa_update_year', 'fifa_update_month']])\n"
      ],
      "metadata": {
        "colab": {
          "base_uri": "https://localhost:8080/"
        },
        "id": "gvgoaOA5WzxI",
        "outputId": "0a2094a5-544a-4430-c5d7-d7a8ffccfd8a"
      },
      "execution_count": 57,
      "outputs": [
        {
          "output_type": "stream",
          "name": "stdout",
          "text": [
            "        fifa_update_year  fifa_update_month\n",
            "0                   2023                  1\n",
            "1                   2023                  1\n",
            "2                   2023                  1\n",
            "3                   2023                  1\n",
            "4                   2023                  1\n",
            "...                  ...                ...\n",
            "200066              2014                  8\n",
            "200067              2014                  8\n",
            "200068              2014                  8\n",
            "200069              2014                  8\n",
            "200070              2014                  8\n",
            "\n",
            "[200071 rows x 2 columns]\n"
          ]
        }
      ]
    },
    {
      "cell_type": "markdown",
      "source": [
        "#**Conclusion**\n",
        "This notebook covered initial data exploration, handling missing values, data type conversions, and temporal analysis. Further analysis and modeling can be performed using the cleaned dataset."
      ],
      "metadata": {
        "id": "DOEK2Rp0W8od"
      }
    }
  ]
}